{
 "cells": [
  {
   "cell_type": "markdown",
   "metadata": {},
   "source": [
    "# Convolutional Neural Networks: Application\n",
    "\n",
    "Welcome to Course 4's second assignment! In this notebook, you will:\n",
    "\n",
    "- Create a mood classifer using the TF Keras Sequential API\n",
    "- Build a ConvNet to identify sign language digits using the TF Keras Functional API\n",
    "\n",
    "**After this assignment you will be able to:**\n",
    "\n",
    "- Build and train a ConvNet in TensorFlow for a __binary__ classification problem\n",
    "- Build and train a ConvNet in TensorFlow for a __multiclass__ classification problem\n",
    "- Explain different use cases for the Sequential and Functional APIs\n",
    "\n",
    "To complete this assignment, you should already be familiar with TensorFlow. If you are not, please refer back to the **TensorFlow Tutorial** of the third week of Course 2 (\"**Improving deep neural networks**\")."
   ]
  },
  {
   "cell_type": "markdown",
   "metadata": {},
   "source": [
    "## Table of Contents\n",
    "\n",
    "- [1 - Packages](#1)\n",
    "    - [1.1 - Load the Data and Split the Data into Train/Test Sets](#1-1)\n",
    "- [2 - Layers in TF Keras](#2)\n",
    "- [3 - The Sequential API](#3)\n",
    "    - [3.1 - Create the Sequential Model](#3-1)\n",
    "        - [Exercise 1 - happyModel](#ex-1)\n",
    "    - [3.2 - Train and Evaluate the Model](#3-2)\n",
    "- [4 - The Functional API](#4)\n",
    "    - [4.1 - Load the SIGNS Dataset](#4-1)\n",
    "    - [4.2 - Split the Data into Train/Test Sets](#4-2)\n",
    "    - [4.3 - Forward Propagation](#4-3)\n",
    "        - [Exercise 2 - convolutional_model](#ex-2)\n",
    "    - [4.4 - Train the Model](#4-4)\n",
    "- [5 - History Object](#5)\n",
    "- [6 - Bibliography](#6)"
   ]
  },
  {
   "cell_type": "markdown",
   "metadata": {},
   "source": [
    "<a name='1'></a>\n",
    "## 1 - Packages\n",
    "\n",
    "As usual, begin by loading in the packages."
   ]
  },
  {
   "cell_type": "code",
   "execution_count": 1,
   "metadata": {},
   "outputs": [],
   "source": [
    "import math\n",
    "import numpy as np\n",
    "import h5py\n",
    "import matplotlib.pyplot as plt\n",
    "from matplotlib.pyplot import imread\n",
    "import scipy\n",
    "from PIL import Image\n",
    "import pandas as pd\n",
    "import tensorflow as tf\n",
    "import tensorflow.keras.layers as tfl\n",
    "from tensorflow.python.framework import ops\n",
    "from cnn_utils import *\n",
    "from test_utils import summary, comparator\n",
    "\n",
    "%matplotlib inline\n",
    "np.random.seed(1)"
   ]
  },
  {
   "cell_type": "markdown",
   "metadata": {},
   "source": [
    "<a name='1-1'></a>\n",
    "### 1.1 - Load the Data and Split the Data into Train/Test Sets\n",
    "\n",
    "You'll be using the Happy House dataset for this part of the assignment, which contains images of peoples' faces. Your task will be to build a ConvNet that determines whether the people in the images are smiling or not -- because they only get to enter the house if they're smiling!  "
   ]
  },
  {
   "cell_type": "code",
   "execution_count": 6,
   "metadata": {},
   "outputs": [
    {
     "name": "stdout",
     "output_type": "stream",
     "text": [
      "(600, 64, 64, 3)\n",
      "(600, 1)\n",
      "number of training examples = 600\n",
      "number of test examples = 150\n",
      "X_train shape: (600, 64, 64, 3)\n",
      "Y_train shape: (600, 1)\n",
      "X_test shape: (150, 64, 64, 3)\n",
      "Y_test shape: (150, 1)\n"
     ]
    }
   ],
   "source": [
    "X_train_orig, Y_train_orig, X_test_orig, Y_test_orig, classes = load_happy_dataset()\n",
    "\n",
    "# Normalize image vectors\n",
    "X_train = X_train_orig/255.\n",
    "X_test = X_test_orig/255.\n",
    "\n",
    "print(X_train.shape)\n",
    "print(Y_train.shape)\n",
    "# Reshape\n",
    "Y_train = Y_train_orig.T\n",
    "Y_test = Y_test_orig.T\n",
    "\n",
    "print (\"number of training examples = \" + str(X_train.shape[0]))\n",
    "print (\"number of test examples = \" + str(X_test.shape[0]))\n",
    "print (\"X_train shape: \" + str(X_train.shape))\n",
    "print (\"Y_train shape: \" + str(Y_train.shape))\n",
    "print (\"X_test shape: \" + str(X_test.shape))\n",
    "print (\"Y_test shape: \" + str(Y_test.shape))"
   ]
  },
  {
   "cell_type": "markdown",
   "metadata": {},
   "source": [
    "You can display the images contained in the dataset. Images are **64x64** pixels in RGB format (3 channels)."
   ]
  },
  {
   "cell_type": "code",
   "execution_count": 9,
   "metadata": {},
   "outputs": [
    {
     "data": {
      "image/png": "[encoded data removed]",
      "text/plain": [
       "<Figure size 432x288 with 1 Axes>"
      ]
     },
     "metadata": {
      "needs_background": "light"
     },
     "output_type": "display_data"
    }
   ],
   "source": [
    "index = 22\n",
    "plt.imshow(X_train_orig[index]) #display sample training image\n",
    "plt.show()"
   ]
  },
  {
   "cell_type": "markdown",
   "metadata": {},
   "source": [
    "<a name='2'></a>\n",
    "## 2 - Layers in TF Keras \n",
    "\n",
    "In the previous assignment, you created layers manually in numpy. In TF Keras, you don't have to write code directly to create layers. Rather, TF Keras has pre-defined layers you can use. \n",
    "\n",
    "When you create a layer in TF Keras, you are creating a function that takes some input and transforms it into an output you can reuse later. Nice and easy! "
   ]
  },
  {
   "cell_type": "markdown",
   "metadata": {},
   "source": [
    "<a name='3'></a>\n",
    "## 3 - The Sequential API\n",
    "\n",
    "In the previous assignment, you built helper functions using `numpy` to understand the mechanics behind convolutional neural networks. Most practical applications of deep learning today are built using programming frameworks, which have many built-in functions you can simply call. Keras is a high-level abstraction built on top of TensorFlow, which allows for even more simplified and optimized model creation and training. \n",
    "\n",
    "For the first part of this assignment, you'll create a model using TF Keras' Sequential API, which allows you to build layer by layer, and is ideal for building models where each layer has **exactly one** input tensor and **one** output tensor. \n",
    "\n",
    "As you'll see, using the Sequential API is simple and straightforward, but is only appropriate for simpler, more straightforward tasks. Later in this notebook you'll spend some time building with a more flexible, powerful alternative: the Functional API. \n",
    " "
   ]
  },
  {
   "cell_type": "markdown",
   "metadata": {},
   "source": [
    "<a name='3-1'></a>\n",
    "### 3.1 - Create the Sequential Model\n",
    "\n",
    "As mentioned earlier, the TensorFlow Keras Sequential API can be used to build simple models with layer operations that proceed in a sequential order. \n",
    "\n",
    "You can also add layers incrementally to a Sequential model with the `.add()` method, or remove them using the `.pop()` method, much like you would in a regular Python list.\n",
    "\n",
    "Actually, you can think of a Sequential model as behaving like a list of layers. Like Python lists, Sequential layers are ordered, and the order in which they are specified matters.  If your model is non-linear or contains layers with multiple inputs or outputs, a Sequential model wouldn't be the right choice!\n",
    "\n",
    "For any layer construction in Keras, you'll need to specify the input shape in advance. This is because in Keras, the shape of the weights is based on the shape of the inputs. The weights are only created when the model first sees some input data. Sequential models can be created by passing a list of layers to the Sequential constructor, like you will do in the next assignment.\n",
    "\n",
    "<a name='ex-1'></a>\n",
    "### Exercise 1 - happyModel\n",
    "\n",
    "Implement the `happyModel` function below to build the following model: `ZEROPAD2D -> CONV2D -> BATCHNORM -> RELU -> MAXPOOL -> FLATTEN -> DENSE`. Take help from [tf.keras.layers](https://www.tensorflow.org/api_docs/python/tf/keras/layers) \n",
    "\n",
    "Also, plug in the following parameters for all the steps:\n",
    "\n",
    " - [ZeroPadding2D](https://www.tensorflow.org/api_docs/python/tf/keras/layers/ZeroPadding2D): padding 3, input shape 64 x 64 x 3\n",
    " - [Conv2D](https://www.tensorflow.org/api_docs/python/tf/keras/layers/Conv2D): Use 32 7x7 filters, stride 1\n",
    " - [BatchNormalization](https://www.tensorflow.org/api_docs/python/tf/keras/layers/BatchNormalization): for axis 3\n",
    " - [ReLU](https://www.tensorflow.org/api_docs/python/tf/keras/layers/ReLU)\n",
    " - [MaxPool2D](https://www.tensorflow.org/api_docs/python/tf/keras/layers/MaxPool2D): Using default parameters\n",
    " - [Flatten](https://www.tensorflow.org/api_docs/python/tf/keras/layers/Flatten) the previous output.\n",
    " - Fully-connected ([Dense](https://www.tensorflow.org/api_docs/python/tf/keras/layers/Dense)) layer: Apply a fully connected layer with 1 neuron and a sigmoid activation. \n",
    " \n",
    " \n",
    " **Hint:**\n",
    " \n",
    " Use **tfl** as shorthand for **tensorflow.keras.layers**"
   ]
  },
  {
   "cell_type": "code",
   "execution_count": 17,
   "metadata": {
    "deletable": false,
    "nbgrader": {
     "cell_type": "code",
     "checksum": "95d28b191f257bdd5b70c7b8952559d5",
     "grade": false,
     "grade_id": "cell-0e56d3fc28b69aec",
     "locked": false,
     "schema_version": 3,
     "solution": true,
     "task": false
    }
   },
   "outputs": [],
   "source": [
    "# GRADED FUNCTION: happyModel\n",
    "\n",
    "def happyModel():\n",
    "    \"\"\"\n",
    "    Implements the forward propagation for the binary classification model:\n",
    "    ZEROPAD2D -> CONV2D -> BATCHNORM -> RELU -> MAXPOOL -> FLATTEN -> DENSE\n",
    "    \n",
    "    Note that for simplicity and grading purposes, you'll hard-code all the values\n",
    "    such as the stride and kernel (filter) sizes. \n",
    "    Normally, functions should take these values as function parameters.\n",
    "    \n",
    "    Arguments:\n",
    "    None\n",
    "\n",
    "    Returns:\n",
    "    model -- TF Keras model (object containing the information for the entire training process) \n",
    "    \"\"\"\n",
    "    model = tf.keras.Sequential([\n",
    "            ## ZeroPadding2D with padding 3, input shape of 64 x 64 x 3\n",
    "            tfl.ZeroPadding2D(padding=3, input_shape=((64,64,3))),\n",
    "            ## Conv2D with 32 7x7 filters and stride of 1\n",
    "            tfl.Conv2D(32, (7,7)),\n",
    "            ## BatchNormalization for axis 3\n",
    "            tfl.BatchNormalization(axis=3),\n",
    "            ## ReLU\n",
    "            tfl.ReLU(),\n",
    "            ## Max Pooling 2D with default parameters\n",
    "            tfl.MaxPool2D(),\n",
    "            ## Flatten layer\n",
    "            tfl.Flatten(),\n",
    "            ## Dense layer with 1 unit for output & 'sigmoid' activation\n",
    "            tfl.Dense(1, activation=\"sigmoid\")\n",
    "            # YOUR CODE STARTS HERE\n",
    "            \n",
    "            \n",
    "            # YOUR CODE ENDS HERE\n",
    "        ])\n",
    "    \n",
    "    return model"
   ]
  },
  {
   "cell_type": "code",
   "execution_count": 18,
   "metadata": {
    "deletable": false,
    "editable": false,
    "nbgrader": {
     "cell_type": "code",
     "checksum": "8d3575c950e2e78149be2d05d671c80d",
     "grade": true,
     "grade_id": "cell-e3e1046e5c33d775",
     "locked": true,
     "points": 10,
     "schema_version": 3,
     "solution": false,
     "task": false
    }
   },
   "outputs": [
    {
     "name": "stdout",
     "output_type": "stream",
     "text": [
      "['ZeroPadding2D', (None, 70, 70, 3), 0, ((3, 3), (3, 3))]\n",
      "['Conv2D', (None, 64, 64, 32), 4736, 'valid', 'linear', 'GlorotUniform']\n",
      "['BatchNormalization', (None, 64, 64, 32), 128]\n",
      "['ReLU', (None, 64, 64, 32), 0]\n",
      "['MaxPooling2D', (None, 32, 32, 32), 0, (2, 2), (2, 2), 'valid']\n",
      "['Flatten', (None, 32768), 0]\n",
      "['Dense', (None, 1), 32769, 'sigmoid']\n",
      "\u001b[32mAll tests passed!\u001b[0m\n"
     ]
    }
   ],
   "source": [
    "happy_model = happyModel()\n",
    "# Print a summary for each layer\n",
    "for layer in summary(happy_model):\n",
    "    print(layer)\n",
    "    \n",
    "output = [['ZeroPadding2D', (None, 70, 70, 3), 0, ((3, 3), (3, 3))],\n",
    "            ['Conv2D', (None, 64, 64, 32), 4736, 'valid', 'linear', 'GlorotUniform'],\n",
    "            ['BatchNormalization', (None, 64, 64, 32), 128],\n",
    "            ['ReLU', (None, 64, 64, 32), 0],\n",
    "            ['MaxPooling2D', (None, 32, 32, 32), 0, (2, 2), (2, 2), 'valid'],\n",
    "            ['Flatten', (None, 32768), 0],\n",
    "            ['Dense', (None, 1), 32769, 'sigmoid']]\n",
    "    \n",
    "comparator(summary(happy_model), output)"
   ]
  },
  {
   "cell_type": "markdown",
   "metadata": {},
   "source": [
    "Now that your model is created, you can compile it for training with an optimizer and loss of your choice. When the string `accuracy` is specified as a metric, the type of accuracy used will be automatically converted based on the loss function used. This is one of the many optimizations built into TensorFlow that make your life easier! If you'd like to read more on how the compiler operates, check the docs [here](https://www.tensorflow.org/api_docs/python/tf/keras/Model#compile)."
   ]
  },
  {
   "cell_type": "code",
   "execution_count": 19,
   "metadata": {},
   "outputs": [],
   "source": [
    "happy_model.compile(optimizer='adam',\n",
    "                   loss='binary_crossentropy',\n",
    "                   metrics=['accuracy'])"
   ]
  },
  {
   "cell_type": "markdown",
   "metadata": {},
   "source": [
    "It's time to check your model's parameters with the `.summary()` method. This will display the types of layers you have, the shape of the outputs, and how many parameters are in each layer. "
   ]
  },
  {
   "cell_type": "code",
   "execution_count": 20,
   "metadata": {},
   "outputs": [
    {
     "name": "stdout",
     "output_type": "stream",
     "text": [
      "Model: \"sequential_1\"\n",
      "_________________________________________________________________\n",
      "Layer (type)                 Output Shape              Param #   \n",
      "=================================================================\n",
      "zero_padding2d_2 (ZeroPaddin (None, 70, 70, 3)         0         \n",
      "_________________________________________________________________\n",
      "conv2d_1 (Conv2D)            (None, 64, 64, 32)        4736      \n",
      "_________________________________________________________________\n",
      "batch_normalization_1 (Batch (None, 64, 64, 32)        128       \n",
      "_________________________________________________________________\n",
      "re_lu_1 (ReLU)               (None, 64, 64, 32)        0         \n",
      "_________________________________________________________________\n",
      "max_pooling2d_1 (MaxPooling2 (None, 32, 32, 32)        0         \n",
      "_________________________________________________________________\n",
      "flatten_1 (Flatten)          (None, 32768)             0         \n",
      "_________________________________________________________________\n",
      "dense_1 (Dense)              (None, 1)                 32769     \n",
      "=================================================================\n",
      "Total params: 37,633\n",
      "Trainable params: 37,569\n",
      "Non-trainable params: 64\n",
      "_________________________________________________________________\n"
     ]
    }
   ],
   "source": [
    "happy_model.summary()"
   ]
  },
  {
   "cell_type": "markdown",
   "metadata": {},
   "source": [
    "<a name='3-2'></a>\n",
    "### 3.2 - Train and Evaluate the Model\n",
    "\n",
    "After creating the model, compiling it with your choice of optimizer and loss function, and doing a sanity check on its contents, you are now ready to build! \n",
    "\n",
    "Simply call `.fit()` to train. That's it! No need for mini-batching, saving, or complex backpropagation computations. That's all been done for you, as you're using a TensorFlow dataset with the batches specified already. You do have the option to specify epoch number or minibatch size if you like (for example, in the case of an un-batched dataset)."
   ]
  },
  {
   "cell_type": "code",
   "execution_count": 21,
   "metadata": {},
   "outputs": [
    {
     "name": "stdout",
     "output_type": "stream",
     "text": [
      "Epoch 1/10\n",
      "38/38 [==============================] - 4s 102ms/step - loss: 1.1550 - accuracy: 0.7267\n",
      "Epoch 2/10\n",
      "38/38 [==============================] - 4s 97ms/step - loss: 0.2629 - accuracy: 0.8850\n",
      "Epoch 3/10\n",
      "38/38 [==============================] - 4s 95ms/step - loss: 0.1565 - accuracy: 0.9450\n",
      "Epoch 4/10\n",
      "38/38 [==============================] - 4s 97ms/step - loss: 0.1042 - accuracy: 0.9633\n",
      "Epoch 5/10\n",
      "38/38 [==============================] - 4s 95ms/step - loss: 0.0894 - accuracy: 0.9617\n",
      "Epoch 6/10\n",
      "38/38 [==============================] - 4s 97ms/step - loss: 0.1206 - accuracy: 0.9517\n",
      "Epoch 7/10\n",
      "38/38 [==============================] - 4s 95ms/step - loss: 0.2542 - accuracy: 0.9067\n",
      "Epoch 8/10\n",
      "38/38 [==============================] - 4s 97ms/step - loss: 0.1381 - accuracy: 0.9483\n",
      "Epoch 9/10\n",
      "38/38 [==============================] - 4s 97ms/step - loss: 0.0858 - accuracy: 0.9767\n",
      "Epoch 10/10\n",
      "38/38 [==============================] - 4s 95ms/step - loss: 0.0660 - accuracy: 0.9783\n"
     ]
    },
    {
     "data": {
      "text/plain": [
       "<tensorflow.python.keras.callbacks.History at 0x7fcb403dc150>"
      ]
     },
     "execution_count": 21,
     "metadata": {},
     "output_type": "execute_result"
    }
   ],
   "source": [
    "happy_model.fit(X_train, Y_train, epochs=10, batch_size=16)"
   ]
  },
  {
   "cell_type": "markdown",
   "metadata": {},
   "source": [
    "After that completes, just use `.evaluate()` to evaluate against your test set. This function will print the value of the loss function and the performance metrics specified during the compilation of the model. In this case, the `binary_crossentropy` and the `accuracy` respectively."
   ]
  },
  {
   "cell_type": "code",
   "execution_count": 22,
   "metadata": {},
   "outputs": [
    {
     "name": "stdout",
     "output_type": "stream",
     "text": [
      "5/5 [==============================] - 0s 28ms/step - loss: 0.2041 - accuracy: 0.9000\n"
     ]
    },
    {
     "data": {
      "text/plain": [
       "[0.2041294425725937, 0.8999999761581421]"
      ]
     },
     "execution_count": 22,
     "metadata": {},
     "output_type": "execute_result"
    }
   ],
   "source": [
    "happy_model.evaluate(X_test, Y_test)"
   ]
  },
  {
   "cell_type": "markdown",
   "metadata": {},
   "source": [
    "Easy, right? But what if you need to build a model with shared layers, branches, or multiple inputs and outputs? This is where Sequential, with its beautifully simple yet limited functionality, won't be able to help you. \n",
    "\n",
    "Next up: Enter the Functional API, your slightly more complex, highly flexible friend.  "
   ]
  },
  {
   "cell_type": "markdown",
   "metadata": {},
   "source": [
    "<a name='4'></a>\n",
    "## 4 - The Functional API"
   ]
  },
  {
   "cell_type": "markdown",
   "metadata": {},
   "source": [
    "Welcome to the second half of the assignment, where you'll use Keras' flexible [Functional API](https://www.tensorflow.org/guide/keras/functional) to build a ConvNet that can differentiate between 6 sign language digits. \n",
    "\n",
    "The Functional API can handle models with non-linear topology, shared layers, as well as layers with multiple inputs or outputs. Imagine that, where the Sequential API requires the model to move in a linear fashion through its layers, the Functional API allows much more flexibility. Where Sequential is a straight line, a Functional model is a graph, where the nodes of the layers can connect in many more ways than one. \n",
    "\n",
    "In the visual example below, the one possible direction of the movement Sequential model is shown in contrast to a skip connection, which is just one of the many ways a Functional model can be constructed. A skip connection, as you might have guessed, skips some layer in the network and feeds the output to a later layer in the network. Don't worry, you'll be spending more time with skip connections very soon! "
   ]
  },
  {
   "cell_type": "markdown",
   "metadata": {},
   "source": [
    "<img src=\"images/seq_vs_func.png\" style=\"width:350px;height:200px;\">"
   ]
  },
  {
   "cell_type": "markdown",
   "metadata": {},
   "source": [
    "<a name='4-1'></a>\n",
    "### 4.1 - Load the SIGNS Dataset\n",
    "\n",
    "As a reminder, the SIGNS dataset is a collection of 6 signs representing numbers from 0 to 5."
   ]
  },
  {
   "cell_type": "code",
   "execution_count": 23,
   "metadata": {},
   "outputs": [],
   "source": [
    "# Loading the data (signs)\n",
    "X_train_orig, Y_train_orig, X_test_orig, Y_test_orig, classes = load_signs_dataset()"
   ]
  },
  {
   "cell_type": "markdown",
   "metadata": {},
   "source": [
    "<img src=\"images/SIGNS.png\" style=\"width:800px;height:300px;\">\n",
    "\n",
    "The next cell will show you an example of a labelled image in the dataset. Feel free to change the value of `index` below and re-run to see different examples. "
   ]
  },
  {
   "cell_type": "code",
   "execution_count": 25,
   "metadata": {},
   "outputs": [
    {
     "name": "stdout",
     "output_type": "stream",
     "text": [
      "y = 5\n"
     ]
    },
    {
     "data": {
      "image/png": "[encoded data removed]",
      "text/plain": [
       "<Figure size 432x288 with 1 Axes>"
      ]
     },
     "metadata": {
      "needs_background": "light"
     },
     "output_type": "display_data"
    }
   ],
   "source": [
    "# Example of an image from the dataset\n",
    "index = 3\n",
    "plt.imshow(X_train_orig[index])\n",
    "print (\"y = \" + str(np.squeeze(Y_train_orig[:, index])))"
   ]
  },
  {
   "cell_type": "markdown",
   "metadata": {},
   "source": [
    "<a name='4-2'></a>\n",
    "### 4.2 - Split the Data into Train/Test Sets\n",
    "\n",
    "In Course 2, you built a fully-connected network for this dataset. But since this is an image dataset, it is more natural to apply a ConvNet to it.\n",
    "\n",
    "To get started, let's examine the shapes of your data. "
   ]
  },
  {
   "cell_type": "code",
   "execution_count": 29,
   "metadata": {},
   "outputs": [
    {
     "name": "stdout",
     "output_type": "stream",
     "text": [
      "number of training examples = 1080\n",
      "number of test examples = 120\n",
      "X_train shape: (1080, 64, 64, 3)\n",
      "Y_train shape: (1080, 6)\n",
      "X_test shape: (120, 64, 64, 3)\n",
      "Y_test shape: (120, 6)\n"
     ]
    }
   ],
   "source": [
    "X_train = X_train_orig/255.\n",
    "X_test = X_test_orig/255.\n",
    "Y_train = convert_to_one_hot(Y_train_orig, 6).T\n",
    "Y_test = convert_to_one_hot(Y_test_orig, 6).T\n",
    "print (\"number of training examples = \" + str(X_train.shape[0]))\n",
    "print (\"number of test examples = \" + str(X_test.shape[0]))\n",
    "print (\"X_train shape: \" + str(X_train.shape))\n",
    "print (\"Y_train shape: \" + str(Y_train.shape))\n",
    "print (\"X_test shape: \" + str(X_test.shape))\n",
    "print (\"Y_test shape: \" + str(Y_test.shape))"
   ]
  },
  {
   "cell_type": "markdown",
   "metadata": {},
   "source": [
    "<a name='4-3'></a>\n",
    "### 4.3 - Forward Propagation\n",
    "\n",
    "In TensorFlow, there are built-in functions that implement the convolution steps for you. By now, you should be familiar with how TensorFlow builds computational graphs. In the [Functional API](https://www.tensorflow.org/guide/keras/functional), you create a graph of layers. This is what allows such great flexibility.\n",
    "\n",
    "However, the following model could also be defined using the Sequential API since the information flow is on a single line. But don't deviate. What we want you to learn is to use the functional API.\n",
    "\n",
    "Begin building your graph of layers by creating an input node that functions as a callable object:\n",
    "\n",
    "- **input_img = tf.keras.Input(shape=input_shape):** \n",
    "\n",
    "Then, create a new node in the graph of layers by calling a layer on the `input_img` object: \n",
    "\n",
    "- **tf.keras.layers.Conv2D(filters= ... , kernel_size= ... , padding='same')(input_img):** Read the full documentation on [Conv2D](https://www.tensorflow.org/api_docs/python/tf/keras/layers/Conv2D).\n",
    "\n",
    "- **tf.keras.layers.MaxPool2D(pool_size=(f, f), strides=(s, s), padding='same'):** `MaxPool2D()` downsamples your input using a window of size (f, f) and strides of size (s, s) to carry out max pooling over each window.  For max pooling, you usually operate on a single example at a time and a single channel at a time. Read the full documentation on [MaxPool2D](https://www.tensorflow.org/api_docs/python/tf/keras/layers/MaxPool2D).\n",
    "\n",
    "- **tf.keras.layers.ReLU():** computes the elementwise ReLU of Z (which can be any shape). You can read the full documentation on [ReLU](https://www.tensorflow.org/api_docs/python/tf/keras/layers/ReLU).\n",
    "\n",
    "- **tf.keras.layers.Flatten()**: given a tensor \"P\", this function takes each training (or test) example in the batch and flattens it into a 1D vector.  \n",
    "\n",
    "    * If a tensor P has the shape (batch_size,h,w,c), it returns a flattened tensor with shape (batch_size, k), where $k=h \\times w \\times c$.  \"k\" equals the product of all the dimension sizes other than the first dimension.\n",
    "    \n",
    "    * For example, given a tensor with dimensions [100, 2, 3, 4], it flattens the tensor to be of shape [100, 24], where 24 = 2 * 3 * 4.  You can read the full documentation on [Flatten](https://www.tensorflow.org/api_docs/python/tf/keras/layers/Flatten).\n",
    "\n",
    "- **tf.keras.layers.Dense(units= ... , activation='softmax')(F):** given the flattened input F, it returns the output computed using a fully connected layer. You can read the full documentation on [Dense](https://www.tensorflow.org/api_docs/python/tf/keras/layers/Dense).\n",
    "\n",
    "In the last function above (`tf.keras.layers.Dense()`), the fully connected layer automatically initializes weights in the graph and keeps on training them as you train the model. Hence, you did not need to initialize those weights when initializing the parameters.\n",
    "\n",
    "Lastly, before creating the model, you'll need to define the output using the last of the function's compositions (in this example, a Dense layer): \n",
    "\n",
    "- **outputs = tf.keras.layers.Dense(units=6, activation='softmax')(F)**\n",
    "\n",
    "\n",
    "#### Window, kernel, filter, pool\n",
    "\n",
    "The words \"kernel\" and \"filter\" are used to refer to the same thing. The word \"filter\" accounts for the amount of \"kernels\" that will be used in a single convolution layer. \"Pool\" is the name of the operation that takes the max or average value of the kernels. \n",
    "\n",
    "This is why the parameter `pool_size` refers to `kernel_size`, and you use `(f,f)` to refer to the filter size. \n",
    "\n",
    "Pool size and kernel size refer to the same thing in different objects - They refer to the shape of the window where the operation takes place. "
   ]
  },
  {
   "cell_type": "markdown",
   "metadata": {},
   "source": [
    "<a name='ex-2'></a>\n",
    "### Exercise 2 - convolutional_model\n",
    "\n",
    "Implement the `convolutional_model` function below to build the following model: `CONV2D -> RELU -> MAXPOOL -> CONV2D -> RELU -> MAXPOOL -> FLATTEN -> DENSE`. Use the functions above! \n",
    "\n",
    "Also, plug in the following parameters for all the steps:\n",
    "\n",
    " - [Conv2D](https://www.tensorflow.org/api_docs/python/tf/keras/layers/Conv2D): Use 8 4 by 4 filters, stride 1, padding is \"SAME\"\n",
    " - [ReLU](https://www.tensorflow.org/api_docs/python/tf/keras/layers/ReLU)\n",
    " - [MaxPool2D](https://www.tensorflow.org/api_docs/python/tf/keras/layers/MaxPool2D): Use an 8 by 8 filter size and an 8 by 8 stride, padding is \"SAME\"\n",
    " - **Conv2D**: Use 16 2 by 2 filters, stride 1, padding is \"SAME\"\n",
    " - **ReLU**\n",
    " - **MaxPool2D**: Use a 4 by 4 filter size and a 4 by 4 stride, padding is \"SAME\"\n",
    " - [Flatten](https://www.tensorflow.org/api_docs/python/tf/keras/layers/Flatten) the previous output.\n",
    " - Fully-connected ([Dense](https://www.tensorflow.org/api_docs/python/tf/keras/layers/Dense)) layer: Apply a fully connected layer with 6 neurons and a softmax activation. "
   ]
  },
  {
   "cell_type": "code",
   "execution_count": 42,
   "metadata": {
    "deletable": false,
    "nbgrader": {
     "cell_type": "code",
     "checksum": "f58643806aa8380c96225fc8b4c5e7aa",
     "grade": false,
     "grade_id": "cell-dac51744a9e03f51",
     "locked": false,
     "schema_version": 3,
     "solution": true,
     "task": false
    }
   },
   "outputs": [],
   "source": [
    "# GRADED FUNCTION: convolutional_model\n",
    "\n",
    "def convolutional_model(input_shape):\n",
    "    \"\"\"\n",
    "    Implements the forward propagation for the model:\n",
    "    CONV2D -> RELU -> MAXPOOL -> CONV2D -> RELU -> MAXPOOL -> FLATTEN -> DENSE\n",
    "    \n",
    "    Note that for simplicity and grading purposes, you'll hard-code some values\n",
    "    such as the stride and kernel (filter) sizes. \n",
    "    Normally, functions should take these values as function parameters.\n",
    "    \n",
    "    Arguments:\n",
    "    input_img -- input dataset, of shape (input_shape)\n",
    "\n",
    "    Returns:\n",
    "    model -- TF Keras model (object containing the information for the entire training process) \n",
    "    \"\"\"\n",
    "\n",
    "    input_img = tf.keras.Input(shape=input_shape)\n",
    "    ## CONV2D: 8 filters 4x4, stride of 1, padding 'SAME'\n",
    "    # Z1 = None\n",
    "    ## RELU\n",
    "    # A1 = None\n",
    "    ## MAXPOOL: window 8x8, stride 8, padding 'SAME'\n",
    "    # P1 = None\n",
    "    ## CONV2D: 16 filters 2x2, stride 1, padding 'SAME'\n",
    "    # Z2 = None\n",
    "    ## RELU\n",
    "    # A2 = None\n",
    "    ## MAXPOOL: window 4x4, stride 4, padding 'SAME'\n",
    "    # P2 = None\n",
    "    ## FLATTEN\n",
    "    # F = None\n",
    "    ## Dense layer\n",
    "    ## 6 neurons in output layer. Hint: one of the arguments should be \"activation='softmax'\" \n",
    "    # outputs = None\n",
    "    # YOUR CODE STARTS HERE\n",
    "    Z1 = tfl.Conv2D(8, (4,4), padding=\"same\")(input_img)\n",
    "    A1 = tfl.ReLU()(Z1)\n",
    "    P1 =  tfl.MaxPool2D((8,8), strides=8, padding=\"same\")(A1)\n",
    "    Z2 = tfl.Conv2D(16, (2,2), padding=\"same\")(P1)\n",
    "    A2 = tfl.ReLU()(Z2)\n",
    "    P2 = tfl.MaxPool2D((4,4), strides=4, padding=\"same\")(A2)\n",
    "    F = tfl.Flatten()(P2)\n",
    "    outputs = tfl.Dense(6, activation=\"softmax\")(F)\n",
    "    # YOUR CODE ENDS HERE\n",
    "    model = tf.keras.Model(inputs=input_img, outputs=outputs)\n",
    "    return model"
   ]
  },
  {
   "cell_type": "code",
   "execution_count": 43,
   "metadata": {
    "deletable": false,
    "editable": false,
    "nbgrader": {
     "cell_type": "code",
     "checksum": "483d626949930a0b0ef20997e7c6ba72",
     "grade": true,
     "grade_id": "cell-45d22e92042174c9",
     "locked": true,
     "points": 10,
     "schema_version": 3,
     "solution": false,
     "task": false
    }
   },
   "outputs": [
    {
     "name": "stdout",
     "output_type": "stream",
     "text": [
      "Model: \"functional_5\"\n",
      "_________________________________________________________________\n",
      "Layer (type)                 Output Shape              Param #   \n",
      "=================================================================\n",
      "input_7 (InputLayer)         [(None, 64, 64, 3)]       0         \n",
      "_________________________________________________________________\n",
      "conv2d_11 (Conv2D)           (None, 64, 64, 8)         392       \n",
      "_________________________________________________________________\n",
      "re_lu_11 (ReLU)              (None, 64, 64, 8)         0         \n",
      "_________________________________________________________________\n",
      "max_pooling2d_8 (MaxPooling2 (None, 8, 8, 8)           0         \n",
      "_________________________________________________________________\n",
      "conv2d_12 (Conv2D)           (None, 8, 8, 16)          528       \n",
      "_________________________________________________________________\n",
      "re_lu_12 (ReLU)              (None, 8, 8, 16)          0         \n",
      "_________________________________________________________________\n",
      "max_pooling2d_9 (MaxPooling2 (None, 2, 2, 16)          0         \n",
      "_________________________________________________________________\n",
      "flatten_5 (Flatten)          (None, 64)                0         \n",
      "_________________________________________________________________\n",
      "dense_5 (Dense)              (None, 6)                 390       \n",
      "=================================================================\n",
      "Total params: 1,310\n",
      "Trainable params: 1,310\n",
      "Non-trainable params: 0\n",
      "_________________________________________________________________\n",
      "\u001b[32mAll tests passed!\u001b[0m\n"
     ]
    }
   ],
   "source": [
    "conv_model = convolutional_model((64, 64, 3))\n",
    "conv_model.compile(optimizer='adam',\n",
    "                  loss='categorical_crossentropy',\n",
    "                  metrics=['accuracy'])\n",
    "conv_model.summary()\n",
    "    \n",
    "output = [['InputLayer', [(None, 64, 64, 3)], 0],\n",
    "        ['Conv2D', (None, 64, 64, 8), 392, 'same', 'linear', 'GlorotUniform'],\n",
    "        ['ReLU', (None, 64, 64, 8), 0],\n",
    "        ['MaxPooling2D', (None, 8, 8, 8), 0, (8, 8), (8, 8), 'same'],\n",
    "        ['Conv2D', (None, 8, 8, 16), 528, 'same', 'linear', 'GlorotUniform'],\n",
    "        ['ReLU', (None, 8, 8, 16), 0],\n",
    "        ['MaxPooling2D', (None, 2, 2, 16), 0, (4, 4), (4, 4), 'same'],\n",
    "        ['Flatten', (None, 64), 0],\n",
    "        ['Dense', (None, 6), 390, 'softmax']]\n",
    "    \n",
    "comparator(summary(conv_model), output)"
   ]
  },
  {
   "cell_type": "markdown",
   "metadata": {},
   "source": [
    "Both the Sequential and Functional APIs return a TF Keras model object. The only difference is how inputs are handled inside the object model! "
   ]
  },
  {
   "cell_type": "markdown",
   "metadata": {},
   "source": [
    "<a name='4-4'></a>\n",
    "### 4.4 - Train the Model"
   ]
  },
  {
   "cell_type": "code",
   "execution_count": 44,
   "metadata": {},
   "outputs": [
    {
     "name": "stdout",
     "output_type": "stream",
     "text": [
      "Epoch 1/100\n",
      "17/17 [==============================] - 2s 107ms/step - loss: 1.7980 - accuracy: 0.1759 - val_loss: 1.7891 - val_accuracy: 0.1750\n",
      "Epoch 2/100\n",
      "17/17 [==============================] - 2s 106ms/step - loss: 1.7860 - accuracy: 0.1944 - val_loss: 1.7839 - val_accuracy: 0.2083\n",
      "Epoch 3/100\n",
      "17/17 [==============================] - 2s 107ms/step - loss: 1.7815 - accuracy: 0.2028 - val_loss: 1.7793 - val_accuracy: 0.1917\n",
      "Epoch 4/100\n",
      "17/17 [==============================] - 2s 106ms/step - loss: 1.7777 - accuracy: 0.2361 - val_loss: 1.7751 - val_accuracy: 0.1917\n",
      "Epoch 5/100\n",
      "17/17 [==============================] - 2s 106ms/step - loss: 1.7736 - accuracy: 0.2380 - val_loss: 1.7700 - val_accuracy: 0.2583\n",
      "Epoch 6/100\n",
      "17/17 [==============================] - 2s 106ms/step - loss: 1.7684 - accuracy: 0.2907 - val_loss: 1.7652 - val_accuracy: 0.2917\n",
      "Epoch 7/100\n",
      "17/17 [==============================] - 2s 106ms/step - loss: 1.7626 - accuracy: 0.3370 - val_loss: 1.7589 - val_accuracy: 0.3083\n",
      "Epoch 8/100\n",
      "17/17 [==============================] - 2s 111ms/step - loss: 1.7556 - accuracy: 0.3333 - val_loss: 1.7507 - val_accuracy: 0.3417\n",
      "Epoch 9/100\n",
      "17/17 [==============================] - 2s 107ms/step - loss: 1.7459 - accuracy: 0.3593 - val_loss: 1.7413 - val_accuracy: 0.3750\n",
      "Epoch 10/100\n",
      "17/17 [==============================] - 2s 106ms/step - loss: 1.7352 - accuracy: 0.3593 - val_loss: 1.7290 - val_accuracy: 0.3833\n",
      "Epoch 11/100\n",
      "17/17 [==============================] - 2s 106ms/step - loss: 1.7225 - accuracy: 0.3750 - val_loss: 1.7134 - val_accuracy: 0.3667\n",
      "Epoch 12/100\n",
      "17/17 [==============================] - 2s 106ms/step - loss: 1.7059 - accuracy: 0.3787 - val_loss: 1.6976 - val_accuracy: 0.3667\n",
      "Epoch 13/100\n",
      "17/17 [==============================] - 2s 111ms/step - loss: 1.6874 - accuracy: 0.3870 - val_loss: 1.6791 - val_accuracy: 0.4167\n",
      "Epoch 14/100\n",
      "17/17 [==============================] - 2s 111ms/step - loss: 1.6653 - accuracy: 0.4222 - val_loss: 1.6581 - val_accuracy: 0.4333\n",
      "Epoch 15/100\n",
      "17/17 [==============================] - 2s 112ms/step - loss: 1.6430 - accuracy: 0.4361 - val_loss: 1.6346 - val_accuracy: 0.4500\n",
      "Epoch 16/100\n",
      "17/17 [==============================] - 2s 107ms/step - loss: 1.6169 - accuracy: 0.4463 - val_loss: 1.6102 - val_accuracy: 0.4583\n",
      "Epoch 17/100\n",
      "17/17 [==============================] - 2s 106ms/step - loss: 1.5887 - accuracy: 0.4648 - val_loss: 1.5835 - val_accuracy: 0.4583\n",
      "Epoch 18/100\n",
      "17/17 [==============================] - 2s 106ms/step - loss: 1.5585 - accuracy: 0.4750 - val_loss: 1.5543 - val_accuracy: 0.4500\n",
      "Epoch 19/100\n",
      "17/17 [==============================] - 2s 107ms/step - loss: 1.5261 - accuracy: 0.4861 - val_loss: 1.5263 - val_accuracy: 0.4583\n",
      "Epoch 20/100\n",
      "17/17 [==============================] - 2s 106ms/step - loss: 1.4929 - accuracy: 0.5009 - val_loss: 1.5014 - val_accuracy: 0.4250\n",
      "Epoch 21/100\n",
      "17/17 [==============================] - 2s 112ms/step - loss: 1.4587 - accuracy: 0.5157 - val_loss: 1.4741 - val_accuracy: 0.4250\n",
      "Epoch 22/100\n",
      "17/17 [==============================] - 2s 111ms/step - loss: 1.4229 - accuracy: 0.5361 - val_loss: 1.4423 - val_accuracy: 0.4333\n",
      "Epoch 23/100\n",
      "17/17 [==============================] - 2s 107ms/step - loss: 1.3865 - accuracy: 0.5444 - val_loss: 1.4092 - val_accuracy: 0.4417\n",
      "Epoch 24/100\n",
      "17/17 [==============================] - 2s 107ms/step - loss: 1.3503 - accuracy: 0.5667 - val_loss: 1.3750 - val_accuracy: 0.4667\n",
      "Epoch 25/100\n",
      "17/17 [==============================] - 2s 106ms/step - loss: 1.3109 - accuracy: 0.5870 - val_loss: 1.3407 - val_accuracy: 0.4833\n",
      "Epoch 26/100\n",
      "17/17 [==============================] - 2s 106ms/step - loss: 1.2729 - accuracy: 0.5963 - val_loss: 1.3055 - val_accuracy: 0.4833\n",
      "Epoch 27/100\n",
      "17/17 [==============================] - 2s 107ms/step - loss: 1.2369 - accuracy: 0.6065 - val_loss: 1.2756 - val_accuracy: 0.4833\n",
      "Epoch 28/100\n",
      "17/17 [==============================] - 2s 107ms/step - loss: 1.2019 - accuracy: 0.6130 - val_loss: 1.2442 - val_accuracy: 0.5083\n",
      "Epoch 29/100\n",
      "17/17 [==============================] - 2s 106ms/step - loss: 1.1688 - accuracy: 0.6194 - val_loss: 1.2149 - val_accuracy: 0.5333\n",
      "Epoch 30/100\n",
      "17/17 [==============================] - 2s 106ms/step - loss: 1.1387 - accuracy: 0.6269 - val_loss: 1.1877 - val_accuracy: 0.5417\n",
      "Epoch 31/100\n",
      "17/17 [==============================] - 2s 111ms/step - loss: 1.1092 - accuracy: 0.6333 - val_loss: 1.1569 - val_accuracy: 0.5333\n",
      "Epoch 32/100\n",
      "17/17 [==============================] - 2s 111ms/step - loss: 1.0798 - accuracy: 0.6435 - val_loss: 1.1332 - val_accuracy: 0.5250\n",
      "Epoch 33/100\n",
      "17/17 [==============================] - 2s 111ms/step - loss: 1.0523 - accuracy: 0.6556 - val_loss: 1.1049 - val_accuracy: 0.5333\n",
      "Epoch 34/100\n",
      "17/17 [==============================] - 2s 111ms/step - loss: 1.0279 - accuracy: 0.6574 - val_loss: 1.0837 - val_accuracy: 0.5083\n",
      "Epoch 35/100\n",
      "17/17 [==============================] - 2s 106ms/step - loss: 1.0026 - accuracy: 0.6676 - val_loss: 1.0611 - val_accuracy: 0.5167\n",
      "Epoch 36/100\n",
      "17/17 [==============================] - 2s 107ms/step - loss: 0.9804 - accuracy: 0.6667 - val_loss: 1.0382 - val_accuracy: 0.5333\n",
      "Epoch 37/100\n",
      "17/17 [==============================] - 2s 106ms/step - loss: 0.9584 - accuracy: 0.6861 - val_loss: 1.0171 - val_accuracy: 0.5333\n",
      "Epoch 38/100\n",
      "17/17 [==============================] - 2s 106ms/step - loss: 0.9388 - accuracy: 0.6944 - val_loss: 0.9976 - val_accuracy: 0.5417\n",
      "Epoch 39/100\n",
      "17/17 [==============================] - 2s 106ms/step - loss: 0.9199 - accuracy: 0.6981 - val_loss: 0.9803 - val_accuracy: 0.5417\n",
      "Epoch 40/100\n",
      "17/17 [==============================] - 2s 107ms/step - loss: 0.9023 - accuracy: 0.7009 - val_loss: 0.9634 - val_accuracy: 0.5417\n",
      "Epoch 41/100\n",
      "17/17 [==============================] - 2s 106ms/step - loss: 0.8858 - accuracy: 0.7028 - val_loss: 0.9477 - val_accuracy: 0.5667\n",
      "Epoch 42/100\n",
      "17/17 [==============================] - 2s 106ms/step - loss: 0.8704 - accuracy: 0.7083 - val_loss: 0.9318 - val_accuracy: 0.5750\n",
      "Epoch 43/100\n",
      "17/17 [==============================] - 2s 107ms/step - loss: 0.8559 - accuracy: 0.7185 - val_loss: 0.9187 - val_accuracy: 0.5750\n",
      "Epoch 44/100\n",
      "17/17 [==============================] - 2s 106ms/step - loss: 0.8414 - accuracy: 0.7269 - val_loss: 0.9050 - val_accuracy: 0.6000\n",
      "Epoch 45/100\n",
      "17/17 [==============================] - 2s 106ms/step - loss: 0.8276 - accuracy: 0.7343 - val_loss: 0.8919 - val_accuracy: 0.6250\n",
      "Epoch 46/100\n",
      "17/17 [==============================] - 2s 106ms/step - loss: 0.8153 - accuracy: 0.7398 - val_loss: 0.8792 - val_accuracy: 0.6167\n",
      "Epoch 47/100\n",
      "17/17 [==============================] - 2s 106ms/step - loss: 0.8035 - accuracy: 0.7491 - val_loss: 0.8683 - val_accuracy: 0.6333\n",
      "Epoch 48/100\n",
      "17/17 [==============================] - 2s 111ms/step - loss: 0.7918 - accuracy: 0.7519 - val_loss: 0.8572 - val_accuracy: 0.6167\n",
      "Epoch 49/100\n",
      "17/17 [==============================] - 2s 111ms/step - loss: 0.7804 - accuracy: 0.7528 - val_loss: 0.8467 - val_accuracy: 0.6167\n",
      "Epoch 50/100\n",
      "17/17 [==============================] - 2s 106ms/step - loss: 0.7698 - accuracy: 0.7519 - val_loss: 0.8361 - val_accuracy: 0.6250\n",
      "Epoch 51/100\n",
      "17/17 [==============================] - 2s 106ms/step - loss: 0.7589 - accuracy: 0.7509 - val_loss: 0.8258 - val_accuracy: 0.6333\n",
      "Epoch 52/100\n",
      "17/17 [==============================] - 2s 107ms/step - loss: 0.7491 - accuracy: 0.7546 - val_loss: 0.8154 - val_accuracy: 0.6333\n",
      "Epoch 53/100\n",
      "17/17 [==============================] - 2s 107ms/step - loss: 0.7379 - accuracy: 0.7602 - val_loss: 0.8048 - val_accuracy: 0.6417\n",
      "Epoch 54/100\n",
      "17/17 [==============================] - 2s 107ms/step - loss: 0.7276 - accuracy: 0.7648 - val_loss: 0.7942 - val_accuracy: 0.6500\n",
      "Epoch 55/100\n",
      "17/17 [==============================] - 2s 106ms/step - loss: 0.7176 - accuracy: 0.7620 - val_loss: 0.7837 - val_accuracy: 0.6583\n",
      "Epoch 56/100\n",
      "17/17 [==============================] - 2s 106ms/step - loss: 0.7083 - accuracy: 0.7667 - val_loss: 0.7750 - val_accuracy: 0.6667\n",
      "Epoch 57/100\n",
      "17/17 [==============================] - 2s 111ms/step - loss: 0.6992 - accuracy: 0.7741 - val_loss: 0.7661 - val_accuracy: 0.6750\n",
      "Epoch 58/100\n",
      "17/17 [==============================] - 2s 111ms/step - loss: 0.6902 - accuracy: 0.7769 - val_loss: 0.7570 - val_accuracy: 0.6667\n",
      "Epoch 59/100\n",
      "17/17 [==============================] - 2s 111ms/step - loss: 0.6805 - accuracy: 0.7769 - val_loss: 0.7494 - val_accuracy: 0.6750\n",
      "Epoch 60/100\n",
      "17/17 [==============================] - 2s 106ms/step - loss: 0.6711 - accuracy: 0.7815 - val_loss: 0.7389 - val_accuracy: 0.6917\n",
      "Epoch 61/100\n",
      "17/17 [==============================] - 2s 106ms/step - loss: 0.6618 - accuracy: 0.7880 - val_loss: 0.7315 - val_accuracy: 0.6917\n",
      "Epoch 62/100\n",
      "17/17 [==============================] - 2s 106ms/step - loss: 0.6529 - accuracy: 0.7917 - val_loss: 0.7245 - val_accuracy: 0.7000\n",
      "Epoch 63/100\n",
      "17/17 [==============================] - 2s 106ms/step - loss: 0.6449 - accuracy: 0.7935 - val_loss: 0.7169 - val_accuracy: 0.7000\n",
      "Epoch 64/100\n",
      "17/17 [==============================] - 2s 111ms/step - loss: 0.6373 - accuracy: 0.7944 - val_loss: 0.7101 - val_accuracy: 0.7000\n",
      "Epoch 65/100\n",
      "17/17 [==============================] - 2s 112ms/step - loss: 0.6296 - accuracy: 0.7944 - val_loss: 0.7027 - val_accuracy: 0.7000\n",
      "Epoch 66/100\n",
      "17/17 [==============================] - 2s 106ms/step - loss: 0.6222 - accuracy: 0.7944 - val_loss: 0.6977 - val_accuracy: 0.7000\n",
      "Epoch 67/100\n",
      "17/17 [==============================] - 2s 111ms/step - loss: 0.6151 - accuracy: 0.7972 - val_loss: 0.6934 - val_accuracy: 0.7000\n",
      "Epoch 68/100\n",
      "17/17 [==============================] - 2s 111ms/step - loss: 0.6082 - accuracy: 0.7981 - val_loss: 0.6883 - val_accuracy: 0.7000\n",
      "Epoch 69/100\n",
      "17/17 [==============================] - 2s 111ms/step - loss: 0.6011 - accuracy: 0.8019 - val_loss: 0.6832 - val_accuracy: 0.7083\n",
      "Epoch 70/100\n",
      "17/17 [==============================] - 2s 111ms/step - loss: 0.5937 - accuracy: 0.8056 - val_loss: 0.6772 - val_accuracy: 0.7250\n",
      "Epoch 71/100\n",
      "17/17 [==============================] - 2s 106ms/step - loss: 0.5874 - accuracy: 0.8083 - val_loss: 0.6717 - val_accuracy: 0.7250\n",
      "Epoch 72/100\n",
      "17/17 [==============================] - 2s 106ms/step - loss: 0.5803 - accuracy: 0.8102 - val_loss: 0.6669 - val_accuracy: 0.7250\n",
      "Epoch 73/100\n",
      "17/17 [==============================] - 2s 106ms/step - loss: 0.5742 - accuracy: 0.8120 - val_loss: 0.6609 - val_accuracy: 0.7250\n",
      "Epoch 74/100\n",
      "17/17 [==============================] - 2s 106ms/step - loss: 0.5678 - accuracy: 0.8176 - val_loss: 0.6554 - val_accuracy: 0.7167\n",
      "Epoch 75/100\n",
      "17/17 [==============================] - 2s 111ms/step - loss: 0.5620 - accuracy: 0.8250 - val_loss: 0.6511 - val_accuracy: 0.7167\n",
      "Epoch 76/100\n",
      "17/17 [==============================] - 2s 111ms/step - loss: 0.5559 - accuracy: 0.8241 - val_loss: 0.6467 - val_accuracy: 0.7417\n",
      "Epoch 77/100\n",
      "17/17 [==============================] - 2s 107ms/step - loss: 0.5508 - accuracy: 0.8259 - val_loss: 0.6429 - val_accuracy: 0.7500\n",
      "Epoch 78/100\n",
      "17/17 [==============================] - 2s 106ms/step - loss: 0.5451 - accuracy: 0.8287 - val_loss: 0.6382 - val_accuracy: 0.7500\n",
      "Epoch 79/100\n",
      "17/17 [==============================] - 2s 106ms/step - loss: 0.5397 - accuracy: 0.8296 - val_loss: 0.6340 - val_accuracy: 0.7583\n",
      "Epoch 80/100\n",
      "17/17 [==============================] - 2s 106ms/step - loss: 0.5343 - accuracy: 0.8324 - val_loss: 0.6299 - val_accuracy: 0.7583\n",
      "Epoch 81/100\n",
      "17/17 [==============================] - 2s 106ms/step - loss: 0.5293 - accuracy: 0.8333 - val_loss: 0.6265 - val_accuracy: 0.7667\n",
      "Epoch 82/100\n",
      "17/17 [==============================] - 2s 106ms/step - loss: 0.5243 - accuracy: 0.8333 - val_loss: 0.6223 - val_accuracy: 0.7667\n",
      "Epoch 83/100\n",
      "17/17 [==============================] - 2s 106ms/step - loss: 0.5198 - accuracy: 0.8361 - val_loss: 0.6191 - val_accuracy: 0.7667\n",
      "Epoch 84/100\n",
      "17/17 [==============================] - 2s 111ms/step - loss: 0.5150 - accuracy: 0.8380 - val_loss: 0.6153 - val_accuracy: 0.7583\n",
      "Epoch 85/100\n",
      "17/17 [==============================] - 2s 111ms/step - loss: 0.5103 - accuracy: 0.8407 - val_loss: 0.6115 - val_accuracy: 0.7583\n",
      "Epoch 86/100\n",
      "17/17 [==============================] - 2s 106ms/step - loss: 0.5059 - accuracy: 0.8417 - val_loss: 0.6079 - val_accuracy: 0.7583\n",
      "Epoch 87/100\n",
      "17/17 [==============================] - 2s 106ms/step - loss: 0.5013 - accuracy: 0.8435 - val_loss: 0.6041 - val_accuracy: 0.7667\n",
      "Epoch 88/100\n",
      "17/17 [==============================] - 2s 111ms/step - loss: 0.4970 - accuracy: 0.8435 - val_loss: 0.6000 - val_accuracy: 0.7583\n",
      "Epoch 89/100\n",
      "17/17 [==============================] - 2s 111ms/step - loss: 0.4923 - accuracy: 0.8454 - val_loss: 0.5963 - val_accuracy: 0.7583\n",
      "Epoch 90/100\n",
      "17/17 [==============================] - 2s 106ms/step - loss: 0.4881 - accuracy: 0.8444 - val_loss: 0.5919 - val_accuracy: 0.7833\n",
      "Epoch 91/100\n",
      "17/17 [==============================] - 2s 111ms/step - loss: 0.4835 - accuracy: 0.8472 - val_loss: 0.5889 - val_accuracy: 0.7833\n",
      "Epoch 92/100\n",
      "17/17 [==============================] - 2s 106ms/step - loss: 0.4795 - accuracy: 0.8481 - val_loss: 0.5863 - val_accuracy: 0.7833\n",
      "Epoch 93/100\n",
      "17/17 [==============================] - 2s 111ms/step - loss: 0.4754 - accuracy: 0.8519 - val_loss: 0.5836 - val_accuracy: 0.7667\n",
      "Epoch 94/100\n",
      "17/17 [==============================] - 2s 107ms/step - loss: 0.4710 - accuracy: 0.8528 - val_loss: 0.5806 - val_accuracy: 0.7750\n",
      "Epoch 95/100\n",
      "17/17 [==============================] - 2s 106ms/step - loss: 0.4668 - accuracy: 0.8537 - val_loss: 0.5782 - val_accuracy: 0.7750\n",
      "Epoch 96/100\n",
      "17/17 [==============================] - 2s 106ms/step - loss: 0.4627 - accuracy: 0.8537 - val_loss: 0.5759 - val_accuracy: 0.7833\n",
      "Epoch 97/100\n",
      "17/17 [==============================] - 2s 111ms/step - loss: 0.4588 - accuracy: 0.8546 - val_loss: 0.5737 - val_accuracy: 0.7833\n",
      "Epoch 98/100\n",
      "17/17 [==============================] - 2s 117ms/step - loss: 0.4546 - accuracy: 0.8546 - val_loss: 0.5706 - val_accuracy: 0.7750\n",
      "Epoch 99/100\n",
      "17/17 [==============================] - 2s 107ms/step - loss: 0.4507 - accuracy: 0.8565 - val_loss: 0.5683 - val_accuracy: 0.7917\n",
      "Epoch 100/100\n",
      "17/17 [==============================] - 2s 106ms/step - loss: 0.4468 - accuracy: 0.8574 - val_loss: 0.5658 - val_accuracy: 0.7833\n"
     ]
    }
   ],
   "source": [
    "train_dataset = tf.data.Dataset.from_tensor_slices((X_train, Y_train)).batch(64)\n",
    "test_dataset = tf.data.Dataset.from_tensor_slices((X_test, Y_test)).batch(64)\n",
    "history = conv_model.fit(train_dataset, epochs=100, validation_data=test_dataset)"
   ]
  },
  {
   "cell_type": "markdown",
   "metadata": {},
   "source": [
    "<a name='5'></a>\n",
    "## 5 - History Object \n",
    "\n",
    "The history object is an output of the `.fit()` operation, and provides a record of all the loss and metric values in memory. It's stored as a dictionary that you can retrieve at `history.history`: "
   ]
  },
  {
   "cell_type": "code",
   "execution_count": 45,
   "metadata": {},
   "outputs": [
    {
     "data": {
      "text/plain": [
       "{'loss': [1.7979791164398193,\n",
       "  1.786022424697876,\n",
       "  1.7815115451812744,\n",
       "  1.7776881456375122,\n",
       "  1.7736083269119263,\n",
       "  1.7683839797973633,\n",
       "  1.7626203298568726,\n",
       "  1.7555599212646484,\n",
       "  1.745876431465149,\n",
       "  1.7351690530776978,\n",
       "  1.7225431203842163,\n",
       "  1.7058966159820557,\n",
       "  1.687422752380371,\n",
       "  1.665273666381836,\n",
       "  1.643041729927063,\n",
       "  1.6168800592422485,\n",
       "  1.5886640548706055,\n",
       "  1.5584716796875,\n",
       "  1.52608323097229,\n",
       "  1.492875576019287,\n",
       "  1.4587434530258179,\n",
       "  1.4229094982147217,\n",
       "  1.3865208625793457,\n",
       "  1.3502650260925293,\n",
       "  1.3108516931533813,\n",
       "  1.2729413509368896,\n",
       "  1.2368980646133423,\n",
       "  1.2019459009170532,\n",
       "  1.1687688827514648,\n",
       "  1.1386739015579224,\n",
       "  1.1091716289520264,\n",
       "  1.0798089504241943,\n",
       "  1.0523245334625244,\n",
       "  1.027862548828125,\n",
       "  1.0026352405548096,\n",
       "  0.9803516268730164,\n",
       "  0.9584097266197205,\n",
       "  0.9388267397880554,\n",
       "  0.9198550581932068,\n",
       "  0.902256965637207,\n",
       "  0.8857935667037964,\n",
       "  0.870439350605011,\n",
       "  0.8559280633926392,\n",
       "  0.8414323925971985,\n",
       "  0.8275680541992188,\n",
       "  0.8153165578842163,\n",
       "  0.8035229444503784,\n",
       "  0.7918228507041931,\n",
       "  0.7804418206214905,\n",
       "  0.7697504162788391,\n",
       "  0.7589192390441895,\n",
       "  0.749070405960083,\n",
       "  0.7378883361816406,\n",
       "  0.7275857329368591,\n",
       "  0.7176453471183777,\n",
       "  0.708346962928772,\n",
       "  0.6992037892341614,\n",
       "  0.6902448534965515,\n",
       "  0.6805151700973511,\n",
       "  0.6710687875747681,\n",
       "  0.6617944836616516,\n",
       "  0.6529279947280884,\n",
       "  0.6449014544487,\n",
       "  0.6373055577278137,\n",
       "  0.6296331882476807,\n",
       "  0.6221914291381836,\n",
       "  0.6151283383369446,\n",
       "  0.6082141995429993,\n",
       "  0.6010950803756714,\n",
       "  0.5936517119407654,\n",
       "  0.5874340534210205,\n",
       "  0.5802577137947083,\n",
       "  0.5741543173789978,\n",
       "  0.5678481459617615,\n",
       "  0.5619899034500122,\n",
       "  0.5559229254722595,\n",
       "  0.5507630109786987,\n",
       "  0.545095682144165,\n",
       "  0.5397213697433472,\n",
       "  0.534313976764679,\n",
       "  0.5293340086936951,\n",
       "  0.5243123173713684,\n",
       "  0.5197570323944092,\n",
       "  0.515017032623291,\n",
       "  0.5103078484535217,\n",
       "  0.5059402585029602,\n",
       "  0.501264750957489,\n",
       "  0.4970036745071411,\n",
       "  0.4923402667045593,\n",
       "  0.48805874586105347,\n",
       "  0.48350825905799866,\n",
       "  0.479518860578537,\n",
       "  0.47538554668426514,\n",
       "  0.4710032045841217,\n",
       "  0.46684956550598145,\n",
       "  0.4626549184322357,\n",
       "  0.45881786942481995,\n",
       "  0.4546010196208954,\n",
       "  0.4507423937320709,\n",
       "  0.4467587471008301],\n",
       " 'accuracy': [0.17592592537403107,\n",
       "  0.1944444477558136,\n",
       "  0.20277777314186096,\n",
       "  0.2361111044883728,\n",
       "  0.23796296119689941,\n",
       "  0.2907407283782959,\n",
       "  0.33703702688217163,\n",
       "  0.3333333432674408,\n",
       "  0.3592592477798462,\n",
       "  0.3592592477798462,\n",
       "  0.375,\n",
       "  0.3787037134170532,\n",
       "  0.3870370388031006,\n",
       "  0.42222222685813904,\n",
       "  0.43611112236976624,\n",
       "  0.4462963044643402,\n",
       "  0.46481481194496155,\n",
       "  0.4749999940395355,\n",
       "  0.4861111044883728,\n",
       "  0.5009258985519409,\n",
       "  0.5157407522201538,\n",
       "  0.5361111164093018,\n",
       "  0.5444444417953491,\n",
       "  0.5666666626930237,\n",
       "  0.5870370268821716,\n",
       "  0.5962963104248047,\n",
       "  0.6064814925193787,\n",
       "  0.6129629611968994,\n",
       "  0.6194444298744202,\n",
       "  0.6268518567085266,\n",
       "  0.6333333253860474,\n",
       "  0.6435185074806213,\n",
       "  0.6555555462837219,\n",
       "  0.6574074029922485,\n",
       "  0.6675925850868225,\n",
       "  0.6666666865348816,\n",
       "  0.6861110925674438,\n",
       "  0.6944444179534912,\n",
       "  0.6981481313705444,\n",
       "  0.7009259462356567,\n",
       "  0.7027778029441833,\n",
       "  0.7083333134651184,\n",
       "  0.7185184955596924,\n",
       "  0.7268518805503845,\n",
       "  0.7342592477798462,\n",
       "  0.739814817905426,\n",
       "  0.7490741014480591,\n",
       "  0.7518518567085266,\n",
       "  0.7527777552604675,\n",
       "  0.7518518567085266,\n",
       "  0.7509258985519409,\n",
       "  0.7546296119689941,\n",
       "  0.760185182094574,\n",
       "  0.7648147940635681,\n",
       "  0.7620370388031006,\n",
       "  0.7666666507720947,\n",
       "  0.7740740776062012,\n",
       "  0.7768518328666687,\n",
       "  0.7768518328666687,\n",
       "  0.7814815044403076,\n",
       "  0.7879629731178284,\n",
       "  0.7916666865348816,\n",
       "  0.7935185432434082,\n",
       "  0.7944444417953491,\n",
       "  0.7944444417953491,\n",
       "  0.7944444417953491,\n",
       "  0.7972221970558167,\n",
       "  0.7981481552124023,\n",
       "  0.8018518686294556,\n",
       "  0.8055555820465088,\n",
       "  0.8083333373069763,\n",
       "  0.8101851940155029,\n",
       "  0.8120370507240295,\n",
       "  0.8175926208496094,\n",
       "  0.824999988079071,\n",
       "  0.8240740895271301,\n",
       "  0.8259259462356567,\n",
       "  0.8287037014961243,\n",
       "  0.8296296000480652,\n",
       "  0.8324074149131775,\n",
       "  0.8333333134651184,\n",
       "  0.8333333134651184,\n",
       "  0.8361111283302307,\n",
       "  0.8379629850387573,\n",
       "  0.8407407402992249,\n",
       "  0.8416666388511658,\n",
       "  0.8435184955596924,\n",
       "  0.8435184955596924,\n",
       "  0.845370352268219,\n",
       "  0.8444444537162781,\n",
       "  0.8472222089767456,\n",
       "  0.8481481671333313,\n",
       "  0.8518518805503845,\n",
       "  0.8527777791023254,\n",
       "  0.8537036776542664,\n",
       "  0.8537036776542664,\n",
       "  0.854629635810852,\n",
       "  0.854629635810852,\n",
       "  0.8564814925193787,\n",
       "  0.8574073910713196],\n",
       " 'val_loss': [1.7891144752502441,\n",
       "  1.7838504314422607,\n",
       "  1.779253363609314,\n",
       "  1.7751023769378662,\n",
       "  1.7699716091156006,\n",
       "  1.7651580572128296,\n",
       "  1.7589359283447266,\n",
       "  1.7507166862487793,\n",
       "  1.7412525415420532,\n",
       "  1.7290230989456177,\n",
       "  1.7133702039718628,\n",
       "  1.6976484060287476,\n",
       "  1.6790693998336792,\n",
       "  1.6580946445465088,\n",
       "  1.634607195854187,\n",
       "  1.6101551055908203,\n",
       "  1.583496332168579,\n",
       "  1.554329752922058,\n",
       "  1.5262717008590698,\n",
       "  1.5014439821243286,\n",
       "  1.474110722541809,\n",
       "  1.4423258304595947,\n",
       "  1.409183382987976,\n",
       "  1.3749910593032837,\n",
       "  1.3407435417175293,\n",
       "  1.3054901361465454,\n",
       "  1.2756136655807495,\n",
       "  1.24423086643219,\n",
       "  1.2149296998977661,\n",
       "  1.1877496242523193,\n",
       "  1.1569303274154663,\n",
       "  1.1332241296768188,\n",
       "  1.1049363613128662,\n",
       "  1.0836941003799438,\n",
       "  1.0610679388046265,\n",
       "  1.0381507873535156,\n",
       "  1.017057180404663,\n",
       "  0.9975994825363159,\n",
       "  0.9803499579429626,\n",
       "  0.9633933901786804,\n",
       "  0.9476664066314697,\n",
       "  0.9318448305130005,\n",
       "  0.918676495552063,\n",
       "  0.904991865158081,\n",
       "  0.8919042944908142,\n",
       "  0.8791570067405701,\n",
       "  0.868256151676178,\n",
       "  0.8572046756744385,\n",
       "  0.846662700176239,\n",
       "  0.8360616564750671,\n",
       "  0.8258025050163269,\n",
       "  0.8154347538948059,\n",
       "  0.8048445582389832,\n",
       "  0.7942292094230652,\n",
       "  0.7837321162223816,\n",
       "  0.774953305721283,\n",
       "  0.7660906910896301,\n",
       "  0.7569541931152344,\n",
       "  0.7493689060211182,\n",
       "  0.7389035820960999,\n",
       "  0.7314899563789368,\n",
       "  0.724473774433136,\n",
       "  0.7168874740600586,\n",
       "  0.7100860476493835,\n",
       "  0.7026653289794922,\n",
       "  0.6977242827415466,\n",
       "  0.6933622360229492,\n",
       "  0.6882816553115845,\n",
       "  0.6831949949264526,\n",
       "  0.677232563495636,\n",
       "  0.6716855764389038,\n",
       "  0.6669046878814697,\n",
       "  0.6609252691268921,\n",
       "  0.6554200649261475,\n",
       "  0.6510776281356812,\n",
       "  0.6466525793075562,\n",
       "  0.642865777015686,\n",
       "  0.6382485032081604,\n",
       "  0.6339958310127258,\n",
       "  0.6298999786376953,\n",
       "  0.6264979839324951,\n",
       "  0.6223021149635315,\n",
       "  0.6190916895866394,\n",
       "  0.6153114438056946,\n",
       "  0.6114956140518188,\n",
       "  0.6079147458076477,\n",
       "  0.604088544845581,\n",
       "  0.6000252962112427,\n",
       "  0.596294641494751,\n",
       "  0.5919049382209778,\n",
       "  0.5888767242431641,\n",
       "  0.5862833857536316,\n",
       "  0.5835516452789307,\n",
       "  0.5805502533912659,\n",
       "  0.5781596302986145,\n",
       "  0.5758646130561829,\n",
       "  0.5736591219902039,\n",
       "  0.5705671906471252,\n",
       "  0.5683257579803467,\n",
       "  0.5658432245254517],\n",
       " 'val_accuracy': [0.17499999701976776,\n",
       "  0.2083333283662796,\n",
       "  0.19166666269302368,\n",
       "  0.19166666269302368,\n",
       "  0.25833332538604736,\n",
       "  0.2916666567325592,\n",
       "  0.3083333373069763,\n",
       "  0.34166666865348816,\n",
       "  0.375,\n",
       "  0.38333332538604736,\n",
       "  0.36666667461395264,\n",
       "  0.36666667461395264,\n",
       "  0.4166666567325592,\n",
       "  0.4333333373069763,\n",
       "  0.44999998807907104,\n",
       "  0.4583333432674408,\n",
       "  0.4583333432674408,\n",
       "  0.44999998807907104,\n",
       "  0.4583333432674408,\n",
       "  0.42500001192092896,\n",
       "  0.42500001192092896,\n",
       "  0.4333333373069763,\n",
       "  0.4416666626930237,\n",
       "  0.46666666865348816,\n",
       "  0.4833333194255829,\n",
       "  0.4833333194255829,\n",
       "  0.4833333194255829,\n",
       "  0.5083333253860474,\n",
       "  0.5333333611488342,\n",
       "  0.5416666865348816,\n",
       "  0.5333333611488342,\n",
       "  0.5249999761581421,\n",
       "  0.5333333611488342,\n",
       "  0.5083333253860474,\n",
       "  0.5166666507720947,\n",
       "  0.5333333611488342,\n",
       "  0.5333333611488342,\n",
       "  0.5416666865348816,\n",
       "  0.5416666865348816,\n",
       "  0.5416666865348816,\n",
       "  0.5666666626930237,\n",
       "  0.574999988079071,\n",
       "  0.574999988079071,\n",
       "  0.6000000238418579,\n",
       "  0.625,\n",
       "  0.6166666746139526,\n",
       "  0.6333333253860474,\n",
       "  0.6166666746139526,\n",
       "  0.6166666746139526,\n",
       "  0.625,\n",
       "  0.6333333253860474,\n",
       "  0.6333333253860474,\n",
       "  0.6416666507720947,\n",
       "  0.6499999761581421,\n",
       "  0.6583333611488342,\n",
       "  0.6666666865348816,\n",
       "  0.675000011920929,\n",
       "  0.6666666865348816,\n",
       "  0.675000011920929,\n",
       "  0.6916666626930237,\n",
       "  0.6916666626930237,\n",
       "  0.699999988079071,\n",
       "  0.699999988079071,\n",
       "  0.699999988079071,\n",
       "  0.699999988079071,\n",
       "  0.699999988079071,\n",
       "  0.699999988079071,\n",
       "  0.699999988079071,\n",
       "  0.7083333134651184,\n",
       "  0.7250000238418579,\n",
       "  0.7250000238418579,\n",
       "  0.7250000238418579,\n",
       "  0.7250000238418579,\n",
       "  0.7166666388511658,\n",
       "  0.7166666388511658,\n",
       "  0.7416666746139526,\n",
       "  0.75,\n",
       "  0.75,\n",
       "  0.7583333253860474,\n",
       "  0.7583333253860474,\n",
       "  0.7666666507720947,\n",
       "  0.7666666507720947,\n",
       "  0.7666666507720947,\n",
       "  0.7583333253860474,\n",
       "  0.7583333253860474,\n",
       "  0.7583333253860474,\n",
       "  0.7666666507720947,\n",
       "  0.7583333253860474,\n",
       "  0.7583333253860474,\n",
       "  0.7833333611488342,\n",
       "  0.7833333611488342,\n",
       "  0.7833333611488342,\n",
       "  0.7666666507720947,\n",
       "  0.7749999761581421,\n",
       "  0.7749999761581421,\n",
       "  0.7833333611488342,\n",
       "  0.7833333611488342,\n",
       "  0.7749999761581421,\n",
       "  0.7916666865348816,\n",
       "  0.7833333611488342]}"
      ]
     },
     "execution_count": 45,
     "metadata": {},
     "output_type": "execute_result"
    }
   ],
   "source": [
    "history.history"
   ]
  },
  {
   "cell_type": "markdown",
   "metadata": {},
   "source": [
    "Now visualize the loss over time using `history.history`: "
   ]
  },
  {
   "cell_type": "code",
   "execution_count": 50,
   "metadata": {},
   "outputs": [
    {
     "data": {
      "text/plain": [
       "[Text(0, 0.5, 'Accuracy'), Text(0.5, 0, 'Epoch')]"
      ]
     },
     "execution_count": 50,
     "metadata": {},
     "output_type": "execute_result"
    },
    {
     "data": {
      "image/png": "[encoded data removed]",
      "text/plain": [
       "<Figure size 864x576 with 1 Axes>"
      ]
     },
     "metadata": {
      "needs_background": "light"
     },
     "output_type": "display_data"
    },
    {
     "data": {
      "image/png": "[encoded data removed]",
      "text/plain": [
       "<Figure size 864x576 with 1 Axes>"
      ]
     },
     "metadata": {
      "needs_background": "light"
     },
     "output_type": "display_data"
    }
   ],
   "source": [
    "# The history.history[\"loss\"] entry is a dictionary with as many values as epochs that the\n",
    "# model was trained on. \n",
    "df_loss_acc = pd.DataFrame(history.history)\n",
    "df_loss= df_loss_acc[['loss','val_loss']]\n",
    "df_loss.rename(columns={'loss':'train','val_loss':'validation'},inplace=True)\n",
    "df_acc= df_loss_acc[['accuracy','val_accuracy']]\n",
    "df_acc.rename(columns={'accuracy':'train','val_accuracy':'validation'},inplace=True)\n",
    "df_loss.plot(title='Model loss',figsize=(12,8)).set(xlabel='Epoch',ylabel='Loss')\n",
    "df_acc.plot(title='Model Accuracy',figsize=(12,8)).set(xlabel='Epoch',ylabel='Accuracy')"
   ]
  },
  {
   "cell_type": "markdown",
   "metadata": {},
   "source": [
    "**Congratulations**! You've finished the assignment and built two models: One that recognizes  smiles, and another that recognizes SIGN language with almost 80% accuracy on the test set. In addition to that, you now also understand the applications of two Keras APIs: Sequential and Functional. Nicely done! \n",
    "\n",
    "By now, you know a bit about how the Functional API works and may have glimpsed the possibilities. In your next assignment, you'll really get a feel for its power when you get the opportunity to build a very deep ConvNet, using ResNets! "
   ]
  },
  {
   "cell_type": "markdown",
   "metadata": {},
   "source": [
    "<a name='6'></a>\n",
    "## 6 - Bibliography\n",
    "\n",
    "You're always encouraged to read the official documentation. To that end, you can find the docs for the Sequential and Functional APIs here: \n",
    "\n",
    "https://www.tensorflow.org/guide/keras/sequential_model\n",
    "\n",
    "https://www.tensorflow.org/guide/keras/functional"
   ]
  }
 ],
 "metadata": {
  "coursera": {
   "course_slug": "convolutional-neural-networks",
   "graded_item_id": "bwbJV",
   "launcher_item_id": "0TkXB"
  },
  "kernelspec": {
   "display_name": "Python 3",
   "language": "python",
   "name": "python3"
  },
  "language_info": {
   "codemirror_mode": {
    "name": "ipython",
    "version": 3
   },
   "file_extension": ".py",
   "mimetype": "text/x-python",
   "name": "python",
   "nbconvert_exporter": "python",
   "pygments_lexer": "ipython3",
   "version": "3.7.6"
  }
 },
 "nbformat": 4,
 "nbformat_minor": 2
}
